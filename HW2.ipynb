{
 "cells": [
  {
   "cell_type": "code",
   "execution_count": null,
   "metadata": {},
   "outputs": [],
   "source": [
    "#сам текст\n",
    "text = 'варкалось хливкие шорьки пырялись по наве и хрюкотали зелюки как мюмзики в мове о бойся бармаглота сын он так свирлеп и дик а в глyще рымит исполин злопастный брандашмыг'\n",
    "#список слов этого текста\n",
    "words = text.split()\n",
    "#создали массив биграмм\n",
    "bigrams = []\n",
    "#в цикле печатаем и добавляем биграммы в массив биграмм\n",
    "for i in range(0, len(words)-1):\n",
    "    print(words[i] + ' ' + words[i+1])\n",
    "    bigrams.append(words[i] + ' ' + words[i+1])\n",
    "\n",
    "\n",
    "print('*'*35)\n",
    "#количество биграмм действительно = количество слов  в тексте -1\n",
    "print('количество биграмм')\n",
    "print(len(bigrams))\n",
    "print('длина слов в тексте')\n",
    "print(len(words))"
   ]
  }
 ],
 "metadata": {
  "kernelspec": {
   "display_name": "Python 3",
   "language": "python",
   "name": "python3"
  },
  "language_info": {
   "codemirror_mode": {
    "name": "ipython",
    "version": 3
   },
   "file_extension": ".py",
   "mimetype": "text/x-python",
   "name": "python",
   "nbconvert_exporter": "python",
   "pygments_lexer": "ipython3",
   "version": "3.6.5"
  }
 },
 "nbformat": 4,
 "nbformat_minor": 2
}

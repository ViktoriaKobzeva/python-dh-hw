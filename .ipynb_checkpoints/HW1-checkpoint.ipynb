{
 "cells": [
  {
   "cell_type": "code",
   "execution_count": 1,
   "metadata": {},
   "outputs": [
    {
     "name": "stdout",
     "output_type": "stream",
     "text": [
      "Введите фразу :Психополитическое значение «золотого века» вокальной поп-музыки (конец 1950-х — 1960-е) можно определить так: это высшее выражение надежды, которое возможно при позднем капитализме. \n",
      "Количество символов :  182\n",
      "Количество слов :  22\n"
     ]
    }
   ],
   "source": [
    "a = input('Введите фразу :')\n",
    "words = a.split()\n",
    "print('Количество символов : ', len(a))\n",
    "print('Количество слов : ' , len(words))"
   ]
  },
  {
   "cell_type": "code",
   "execution_count": 2,
   "metadata": {},
   "outputs": [
    {
     "name": "stdout",
     "output_type": "stream",
     "text": [
      "Введите число от 1 до 9: 6\n",
      "   _~_       _~_       _~_       _~_       _~_       _~_    \n",
      "  (o o)     (o o)     (o o)     (o o)     (o o)     (o o)   \n",
      " /  V  \\   /  V  \\   /  V  \\   /  V  \\   /  V  \\   /  V  \\  \n",
      "/(  _  )\\ /(  _  )\\ /(  _  )\\ /(  _  )\\ /(  _  )\\ /(  _  )\\ \n",
      "  ^^ ^^     ^^ ^^     ^^ ^^     ^^ ^^     ^^ ^^     ^^ ^^   \n"
     ]
    }
   ],
   "source": [
    "a = \"   _~_    \"\n",
    "b = \"  (o o)   \"\n",
    "c = \" /  V  \\\\  \"   \n",
    "d = \"/(  _  )\\\\ \"\n",
    "e = \"  ^^ ^^   \"\n",
    "f = int(input('Введите число от 1 до 9: '))\n",
    "print(a*f)\n",
    "print(b*f)\n",
    "print(c*f)\n",
    "print(d*f)\n",
    "print(e*f)"
   ]
  },
  {
   "cell_type": "code",
   "execution_count": 3,
   "metadata": {},
   "outputs": [
    {
     "name": "stdout",
     "output_type": "stream",
     "text": [
      "w\n",
      "e\n",
      "I swe\n",
      "I swear to you gentlemen, that to be overly conscious is a sickness, a real, thorough sickne\n",
      "Isert o etee,ta ob vrycncosi  ikes  el hruhscns\n",
      " wa oyugnlmn htt eoel osiu sascns,ara,toog ikes\n",
      "ssenkcis hguoroht ,laer a ,ssenkcis a si suoicsnoc ylrevo eb ot taht ,nemeltneg uoy ot raews I\n",
      "seki goot,ara,sncsas uiso leoe tth nmlnguyo aw \n",
      "94\n"
     ]
    }
   ],
   "source": [
    "sentence = \"I swear to you gentlemen, that to be overly conscious is a sickness, a real, thorough sickness\"\n",
    "print(sentence[3])\n",
    "print(sentence[-3])\n",
    "print(sentence[:5])\n",
    "print(sentence[:-2])\n",
    "print(sentence[::2])\n",
    "print(sentence[1::2])\n",
    "print(sentence[::-1])\n",
    "print(sentence[::-2])\n",
    "print(len(sentence))"
   ]
  },
  {
   "cell_type": "code",
   "execution_count": 5,
   "metadata": {},
   "outputs": [
    {
     "name": "stdout",
     "output_type": "stream",
     "text": [
      "Введите слово : rose\n",
      "No\n"
     ]
    }
   ],
   "source": [
    "a = input('Введите слово : ')\n",
    "if a.lower() == a[::-1].lower():\n",
    " print('Yes')\n",
    "else:\n",
    " print('No')"
   ]
  },
  {
   "cell_type": "code",
   "execution_count": 6,
   "metadata": {},
   "outputs": [
    {
     "name": "stdout",
     "output_type": "stream",
     "text": [
      "Введите текст : законы физики рядом с черной дырой уже не работают в том представлении в котором мы привыклипространство время искривляется и все события протекают уже совсем по другомусловно пылесос черная дыра поглощает все что находится около нее планеты астероиды свет и прочееранее считалось что черная дыра ничего не излучает но как доказал стивен хокинг черная дыра излучает антивеществото есть поедает вещество и выделяет антивеществоранее думали что если кинуть в черную дыру человека то ему труба порвет на субатомыно как оказалось по некоторым уравнениям есть определенные траектории путешествия сквозь черную дыру чтоб чувствовать себя нормальноправда не ясно что будет за ней другой мир или ничегообласть вокруг черной дыры которая интересна называется горизонтом событийесли туда полететь не зная волшебное уравнение то будет конечно не оченьнаблюдатель будет видеть как космический корабль влетает в горизонт событий и крайне медленно потом отдаляется пока не застынет в центреу самого же космонавта дела будут идти совсем по другомуискривленное пространство будет лепить из него как из пластилина различные формы пока наконец не разорвет все на субатомыно для внешнего наблюдателя космонавт навсегда останется улыбающимся и махающим в иллюминатор застывшим изображением\n",
      "Введите слово : слово\n",
      "Слово добавлено\n"
     ]
    }
   ],
   "source": [
    "a = str(input('Введите текст : '))\n",
    "b = []\n",
    "b = a.split()\n",
    "word = input('Введите слово : ')\n",
    "for i in b:\n",
    "    if not word in b:\n",
    "        b.append(word)\n",
    "        print('Слово добавлено')\n",
    "        break\n",
    "else:\n",
    "    num = b.count(word)\n",
    "    print(\"Слово\", word, \"встречается в тексте\", num, \"раз\")"
   ]
  },
  {
   "cell_type": "code",
   "execution_count": null,
   "metadata": {},
   "outputs": [],
   "source": []
  }
 ],
 "metadata": {
  "kernelspec": {
   "display_name": "Python 3",
   "language": "python",
   "name": "python3"
  },
  "language_info": {
   "codemirror_mode": {
    "name": "ipython",
    "version": 3
   },
   "file_extension": ".py",
   "mimetype": "text/x-python",
   "name": "python",
   "nbconvert_exporter": "python",
   "pygments_lexer": "ipython3",
   "version": "3.6.5"
  }
 },
 "nbformat": 4,
 "nbformat_minor": 2
}
